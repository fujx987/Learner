{
 "cells": [
  {
   "cell_type": "markdown",
   "id": "0e610d0e-ec62-46f6-889b-ff972a6cf02a",
   "metadata": {},
   "source": [
    "<H1>Data Science Tools and Ecosystem<H1/>"
   ]
  },
  {
   "cell_type": "markdown",
   "id": "18fc8edd-79bc-4990-babb-3d95554751ca",
   "metadata": {},
   "source": [
    "In this notebook, Data Science Tools and Ecosystem are summarized."
   ]
  },
  {
   "cell_type": "code",
   "execution_count": null,
   "id": "387e500a-74e2-494c-9ff0-a7d2f68bf05c",
   "metadata": {},
   "outputs": [],
   "source": [
    "Some of the popular languages that Data Scientists use are:"
   ]
  },
  {
   "cell_type": "code",
   "execution_count": null,
   "id": "340b37cf-4cc0-460b-9336-8a2bc20b2ccd",
   "metadata": {},
   "outputs": [],
   "source": [
    "ordered list:Python,R,Julia"
   ]
  },
  {
   "cell_type": "code",
   "execution_count": null,
   "id": "ae0782b1-9a49-4c82-a3ac-d73a01032a6e",
   "metadata": {},
   "outputs": [],
   "source": [
    "Some of the commonly used libraries used by Data Scientists include:\n",
    "numpy,pandas,plotly"
   ]
  },
  {
   "cell_type": "markdown",
   "id": "618d6917-89bf-418c-b8bb-129296f65318",
   "metadata": {},
   "source": [
    "|Data Science Tools|\n",
    "|----|\n",
    "|Matplotlib|\n",
    "|Scikit-learn|\n",
    "|NumPy|\n"
   ]
  },
  {
   "cell_type": "markdown",
   "id": "249a4c6a-8b5d-4148-9e1a-51fc8358e398",
   "metadata": {},
   "source": [
    "<H3>Below are a few examples of evaluating arithmetic expressions in Python<H3/>"
   ]
  },
  {
   "cell_type": "code",
   "execution_count": 3,
   "id": "c5037091-71d2-4904-adef-51b47264cab1",
   "metadata": {},
   "outputs": [
    {
     "data": {
      "text/plain": [
       "17"
      ]
     },
     "execution_count": 3,
     "metadata": {},
     "output_type": "execute_result"
    }
   ],
   "source": [
    "#This a simple arithmetic expression to mutiply then add integers\n",
    "(3*4)+5"
   ]
  },
  {
   "cell_type": "code",
   "execution_count": 4,
   "id": "ee5e90b7-c561-4b44-a2b6-f39801f3b069",
   "metadata": {},
   "outputs": [
    {
     "data": {
      "text/plain": [
       "3.3333333333333335"
      ]
     },
     "execution_count": 4,
     "metadata": {},
     "output_type": "execute_result"
    }
   ],
   "source": [
    "#This will convert 200 minutes to hours by diving by 60\n",
    "200/60"
   ]
  },
  {
   "cell_type": "markdown",
   "id": "a1cffa7f-7b80-4fc7-abb2-a3028a29db93",
   "metadata": {},
   "source": [
    "<h2>Author<h2/>\n",
    "\n",
    "    DS Learner"
   ]
  },
  {
   "cell_type": "code",
   "execution_count": null,
   "id": "2b2d7b78-d75e-4e1d-a545-a8ac7294e36d",
   "metadata": {},
   "outputs": [],
   "source": []
  }
 ],
 "metadata": {
  "kernelspec": {
   "display_name": "Python 3 (ipykernel)",
   "language": "python",
   "name": "python3"
  },
  "language_info": {
   "codemirror_mode": {
    "name": "ipython",
    "version": 3
   },
   "file_extension": ".py",
   "mimetype": "text/x-python",
   "name": "python",
   "nbconvert_exporter": "python",
   "pygments_lexer": "ipython3",
   "version": "3.10.11"
  }
 },
 "nbformat": 4,
 "nbformat_minor": 5
}
